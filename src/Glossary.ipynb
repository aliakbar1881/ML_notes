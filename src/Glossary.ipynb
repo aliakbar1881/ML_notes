{
 "cells": [
  {
   "cell_type": "markdown",
   "id": "460747d4-d0d2-4a1e-98c3-dd1d3595bc92",
   "metadata": {},
   "source": [
    "## What is artificial intelligence?"
   ]
  },
  {
   "cell_type": "markdown",
   "id": "575923bb-e207-4961-b765-0335c6fee1d8",
   "metadata": {},
   "source": [
    "While a number of definitions of artificial intelligence (AI) have surfaced over the last few decades\n",
    "- Alan Turing(father of computer science) : Alan begin by ask question **Can machine tink?** then he offers a test that called \"Turing test\" and says :  let an investigator observe an discussion between a computer and human, can investigator distinguish between them?\n",
    "- John McCarthy : \" It is the science and engineering of making intelligent machines, especially intelligent computer programs. It is related to the similar task of using computers to understand human intelligence, but AI does not have to confine itself to methods that are biologically observable\"(2004)"
   ]
  },
  {
   "cell_type": "markdown",
   "id": "ed6a549e-c702-47d6-9594-19b4a474afb4",
   "metadata": {},
   "source": [
    "## Weak AI"
   ]
  },
  {
   "cell_type": "markdown",
   "id": "8198715d-b0dd-46d0-af9a-224836481541",
   "metadata": {},
   "source": [
    "also called Narrow AI or Artificial Narrow Intelligence (ANI)—is AI trained and focused to perform specific tasks."
   ]
  },
  {
   "cell_type": "markdown",
   "id": "cc0d64d6-ce2d-443d-8355-e3c1511f3074",
   "metadata": {},
   "source": [
    "## Strong AI"
   ]
  },
  {
   "cell_type": "markdown",
   "id": "d114c661-97e4-4567-9cdc-0b9ad4ae36b2",
   "metadata": {},
   "source": [
    "Strong AI is made up of Artificial General Intelligence (AGI) and Artificial Super Intelligence (ASI). Artificial general intelligence (AGI), or general AI, is a theoretical form of AI where a machine would have an intelligence equaled to humans; it would have a self-aware consciousness that has the ability to solve problems, learn, and plan for the future"
   ]
  },
  {
   "cell_type": "markdown",
   "id": "a440bf4c-9c77-486f-af42-ccabd397eb13",
   "metadata": {},
   "source": [
    " both deep learning and machine learning are sub-fields of artificial intelligence, machine learning is sub-field of AI and deep learning is actually a sub-field of machine learning."
   ]
  },
  {
   "cell_type": "markdown",
   "id": "05587e7e-2529-4f1a-8ba1-60fb69cfa686",
   "metadata": {},
   "source": [
    "## what is amchine learning"
   ]
  },
  {
   "cell_type": "markdown",
   "id": "dc079287-4aa6-4225-8b44-3d9a66849b6b",
   "metadata": {},
   "source": [
    "two definition of Machine Learning are offered.\n",
    "- Arthur Samuel : \"the field of study that gives computers the ability to learn without being explicitly programmed.\"(an informal definition that published this paper around game of checkers)\n",
    "- Tom Mitchell : \"A computer program is said to learn from experience <font color='green'>E</font> with respect to some class of tasks <font color='green'>T</font> and performance measure <font color='green'>P</font>, if its performance at tasks in <font color='green'>T</font>, as measured by <font color='green'>P</font>, improves with experience <font color='green'>E</font>.\""
   ]
  },
  {
   "cell_type": "markdown",
   "id": "176a0dd8-ba41-4aa5-91be-d844423f47ce",
   "metadata": {},
   "source": [
    "Example: playing checkers.\n",
    "\n",
    "E = the experience of playing many games of checkers\n",
    "\n",
    "T = the task of playing checkers.\n",
    "\n",
    "P = the probability that the program will win the next game."
   ]
  },
  {
   "cell_type": "markdown",
   "id": "33193405-0a8a-4c92-98dd-60209bf98a72",
   "metadata": {},
   "source": [
    "The way in which deep learning and machine learning differ is in how each algorithm learns. Deep learning automates much of the feature extraction piece of the process, eliminating some of the manual human intervention required and enabling the use of larger data sets. You can think of deep learning as \"scalable machine learning\" as Lex Fridman noted in same MIT lecture from above. Classical, or \"non-deep\", machine learning is more dependent on human intervention to learn. Human experts determine the hierarchy of features to understand the differences between data inputs, usually requiring more structured data to learn."
   ]
  },
  {
   "cell_type": "markdown",
   "id": "a38e4177-1677-4273-a168-921459e707da",
   "metadata": {},
   "source": [
    "\"Deep\" machine learning can leverage labeled datasets, also known as supervised learning, to inform its algorithm, but it doesn’t necessarily require a labeled dataset. It can ingest unstructured data in its raw form (e.g. text, images), and it can automatically determine the hierarchy of features which distinguish different categories of data from one another. Unlike machine learning, it doesn't require human intervention to process data, allowing us to scale machine learning in more interesting ways."
   ]
  },
  {
   "cell_type": "markdown",
   "id": "2c0d2b17-1bf3-4d98-b79e-27fbe1076c08",
   "metadata": {},
   "source": [
    "UC Berkeley breaks out the learning system of a machine learning algorithm into three main parts.\n",
    " 1. A Decision Proecess: In general, machine learning algorithms are used to make a prediction or classification. Based on some input data, which can be labeled or unlabeled, your algorithm will produce an estimate about a pattern in the data.\n",
    " 2. An Error Function: An error function evaluates the prediction of the model. If there are known examples, an error function can make a comparison to assess the accuracy of the model.\n",
    " 3. A Model Optimization Process: If the model can fit better to the data points in the training set, then weights are adjusted to reduce the discrepancy between the known example and the model estimate. The algorithm will repeat this “evaluate and optimize” process, updating weights autonomously until a threshold of accuracy has been met. "
   ]
  },
  {
   "cell_type": "markdown",
   "id": "79b56445-d5a9-4273-a360-e462d5b598b0",
   "metadata": {},
   "source": [
    "## Supervised Learning"
   ]
  },
  {
   "cell_type": "markdown",
   "id": "060f7a82-bc98-4671-bff6-db3429eefada",
   "metadata": {},
   "source": [
    "In supervised learning, we are given a data set and already know what our correct output should look like, having the idea that there is a relationship between the input and the output.\n",
    "Supervised learning problems are categorized into \"regression\" and \"classification\" problems."
   ]
  },
  {
   "cell_type": "markdown",
   "id": "a5104470-2d8f-4e4f-98e1-bab3394f80d5",
   "metadata": {},
   "source": [
    "#### regression(continues data)"
   ]
  },
  {
   "cell_type": "markdown",
   "id": "e049333c-3ee5-41c9-9301-f1d41baad453",
   "metadata": {},
   "source": [
    "In a regression problem, we are trying to predict results within a continuous output, meaning that we are trying to map input variables to some continuous function."
   ]
  },
  {
   "cell_type": "markdown",
   "id": "a775bb61-5f90-47f5-9af9-d49a2043f5df",
   "metadata": {},
   "source": [
    "#### classification(qualitative data or descrete data)"
   ]
  },
  {
   "cell_type": "markdown",
   "id": "52b7dd6d-de3a-4a29-93a3-21e67f34b156",
   "metadata": {},
   "source": [
    "In a classification problem, we are instead trying to predict results in a discrete output. In other words, we are trying to map input variables into discrete categories. "
   ]
  },
  {
   "cell_type": "markdown",
   "id": "28fd69bd-d48d-45b4-b4b0-20e5caefbc60",
   "metadata": {},
   "source": [
    "## Unsupervised Learning"
   ]
  },
  {
   "cell_type": "markdown",
   "id": "2b6fe577-9901-432e-b27b-75a34b669a14",
   "metadata": {},
   "source": [
    "Unsupervised learning allows us to approach problems with little or no idea what our results should look like. We can derive structure from data where we don't necessarily know the effect of the variables."
   ]
  },
  {
   "cell_type": "markdown",
   "id": "03932bc2-54e6-417f-90f6-75c781ad49bd",
   "metadata": {},
   "source": [
    "Unsupervised learning uses machine learning algorithms to analyze and cluster unlabeled data sets. These algorithms discover hidden patterns in data without the need for human intervention"
   ]
  },
  {
   "cell_type": "markdown",
   "id": "ffb4c92c-ba1d-46cf-a8d1-cd770c84b11b",
   "metadata": {},
   "source": [
    "We can derive this structure by clustering the data based on relationships among the variables in the data.\n",
    "With unsupervised learning there is no feedback based on the prediction results.\n",
    "\n",
    "Non-clustering: The \"Cocktail Party Algorithm\", allows you to find structure in a chaotic environment."
   ]
  },
  {
   "cell_type": "markdown",
   "id": "0e9f5716-c547-4e0e-ac9e-742ecde3c2a3",
   "metadata": {},
   "source": [
    "#### Clustering"
   ]
  },
  {
   "cell_type": "markdown",
   "id": "d13f06f8-51f4-4206-9a1c-41a0094063c6",
   "metadata": {},
   "source": [
    "is a data mining technique for grouping unlabeled data based on their similarities or differences. For example, K-means clustering algorithms assign similar data points into groups, where the K value represents the size of the grouping and granularity. This technique is helpful for market segmentation, image compression."
   ]
  },
  {
   "cell_type": "markdown",
   "id": "27095189-44d5-4da4-af75-fcdb2693711e",
   "metadata": {},
   "source": [
    "#### Association"
   ]
  },
  {
   "cell_type": "markdown",
   "id": "f4246f81-90fd-4b09-b9c8-63f9785d90b5",
   "metadata": {},
   "source": [
    " is another type of unsupervised learning method that uses different rules to find relationships between variables in a given dataset. These methods are frequently used for market basket analysis and recommendation engines, along the lines of “Customers Who Bought This Item Also Bought” recommendations."
   ]
  },
  {
   "cell_type": "markdown",
   "id": "364d88d1-d37d-4e3d-94b3-efc0fd6d18b2",
   "metadata": {},
   "source": [
    "#### Dimensionality reduction "
   ]
  },
  {
   "cell_type": "markdown",
   "id": "d2072b61-3362-439b-9657-c20ef8b536c2",
   "metadata": {},
   "source": [
    "Supervised vs. unsupervised learning: Which is best for you?is a learning technique used when the number of features  (or dimensions) in a given dataset is too high. It reduces the number of data inputs to a manageable size while also preserving the data integrity. Often, this technique is used in the preprocessing data stage, such as when autoencoders remove noise from visual data to improve picture quality."
   ]
  },
  {
   "cell_type": "markdown",
   "id": "9e632164-1bf6-4a69-804d-0973954dde91",
   "metadata": {},
   "source": [
    "## Supervised vs. unsupervised learning: Which is best for you?"
   ]
  },
  {
   "cell_type": "markdown",
   "id": "2ba7974b-4da9-4882-8663-fa9476a772ec",
   "metadata": {},
   "source": [
    "Choosing the right approach for your situation depends on how your data scientists assess the structure and volume of your data, as well as the use case. To make your decision, be sure to do the following:"
   ]
  },
  {
   "cell_type": "markdown",
   "id": "bd1433ad-ebd7-49d7-9e46-1adc1a24c201",
   "metadata": {},
   "source": [
    "- **Evaluate your input data:** Is it labeled or unlabeled data? Do you have experts that can support additional labeling? \n",
    "- **Define your goals:** Do you have a recurring, well-defined problem to solve? Or will the algorithm need to predict new problems?\n",
    "- **Review your options for algorithms:** Are there algorithms with the same dimensionality you need (number of features, attributes or characteristics)? Can they support your data volume and structure?"
   ]
  },
  {
   "cell_type": "markdown",
   "id": "0ce0e814-6b70-442e-84a2-332499cd4b4d",
   "metadata": {},
   "source": [
    "## Semi-supervised learning: The best of both worlds"
   ]
  },
  {
   "cell_type": "markdown",
   "id": "cd9e92db-a0db-4ee0-bdd8-08c688c2b98c",
   "metadata": {},
   "source": [
    "Can’t decide on whether to use supervised or unsupervised learning? Semi-supervised learning is a happy medium, where you use a training dataset with both labeled and unlabeled data. It’s particularly useful when it’s difficult to extract relevant features from data — and when you have a high volume of data."
   ]
  },
  {
   "cell_type": "markdown",
   "id": "aa4769f8-db4d-4066-8d3d-0c8526d7dc60",
   "metadata": {},
   "source": [
    "## Signal\n",
    "A signal represents the way you communicate: Say AM/FM radio, smoke, a hand gesture, etc.\n",
    "\n",
    "Note that data denotes the information conveyed in the signal. But data may also be stored. So a signal may convey information (data), but not all data is signaled. Data is usually associated with digital storage of information . Signal on the other hand need not contain any information . It is possible to derive information from some signals and store for further processing . For example a white noise that come out of any source (like thermal noise from electronic devices, sound from traffic etc) is a signal, but may or may not be converted in to useful data , depending of subject of interest"
   ]
  },
  {
   "cell_type": "markdown",
   "id": "ca64a8f5-fea8-4dfa-a28b-5ea3704506c6",
   "metadata": {},
   "source": [
    "## Noise\n",
    "Signals with no causal relation to the target function."
   ]
  },
  {
   "cell_type": "markdown",
   "id": "6411062a-2ea7-40cd-9b38-b61bd5d7ab05",
   "metadata": {},
   "source": [
    "## Parameter\n",
    "Any characteristic that can be used to help define or classify a system. In AI, they are used to clarify exactly what an algorithm should be seeking to identify as important data when performing its target function."
   ]
  },
  {
   "cell_type": "markdown",
   "id": "6077e278-9e72-469a-91ff-ef01aa97d4a9",
   "metadata": {},
   "source": [
    "## Hyperparameter\n",
    "Occasionally used interchangeably with parameter, although the terms have some subtle differences. Hyperparameters are values that affect the way your model learns. They are usually set manually outside the model."
   ]
  },
  {
   "cell_type": "markdown",
   "id": "1afdec4d-b2ed-4656-842c-23c103c8246b",
   "metadata": {},
   "source": [
    "## Feature Extraction\n",
    "The process by which data that is too large to be processed is transformed into a reduced representation set of features such as a car features: speed, number of wheels, price, etc."
   ]
  },
  {
   "cell_type": "markdown",
   "id": "ecf71c9a-eeca-4c7a-8ea6-2d33b47fa11d",
   "metadata": {},
   "source": [
    "## Reinforcement Learning\n",
    "A type of machine learning in which machines are “taught” to achieve their target function through a process of experimentation and reward receiving positive reinforcement when its processes produce the desired result and negative reinforcement when they do not. This is differentiated from supervised learning, which would require an annotation for every individual action the algorithm would take."
   ]
  },
  {
   "cell_type": "markdown",
   "id": "7143875a-6c19-4ce4-b647-ebefb80ccf32",
   "metadata": {},
   "source": [
    "## Test data set"
   ]
  },
  {
   "cell_type": "markdown",
   "id": "f79c4f01-e30c-4c52-9ccb-bb7142b2a05d",
   "metadata": {},
   "source": [
    "In machine learning, the test data set is the data given to the machine after the training and validation phases have been completed. This data set is used to check the performance characteristics of the algorithms produced after the completion of the first two phases when presented with unknown data. This will give a good indication of the accuracy, sensitivity, and specificity of the algorithm’s predictive powers."
   ]
  },
  {
   "cell_type": "markdown",
   "id": "d60dbb5e-de08-43bf-b64c-f17e10691148",
   "metadata": {},
   "source": [
    "## Training Data Set\n",
    "In machine learning, the training data set is the data given to the machine during the initial “learning” or “training” phase. From this data set the machine is meant to gain some insight into options for the efficient completion of its assigned task through identifying relationships between the data. "
   ]
  },
  {
   "cell_type": "markdown",
   "id": "7c2837c2-62be-4c0e-85e2-5140f0243398",
   "metadata": {},
   "source": [
    "NLP:\n",
    " - NLU\n",
    " - NLG"
   ]
  },
  {
   "cell_type": "markdown",
   "id": "a51bfc4f-1b6d-4336-8dc3-a697b454eed3",
   "metadata": {},
   "source": [
    "## Transfer Learning\n",
    "This method of learning involves spending time teaching a machine to do a related task, then allowing it to return to its original work with improved accuracy. One potential example of this is taking a model that analyzes sentiment in product reviews and asking it to analyze tweets for a week."
   ]
  },
  {
   "cell_type": "markdown",
   "id": "b4663de9-3158-487a-9e94-ec58e400d07f",
   "metadata": {},
   "source": [
    "## Bias-Variance Tradeoff\n",
    "A conflict arising when data scientists try to simultaneously minimize bias and variance, that prevents supervised algorithms from generalizing beyond their training set."
   ]
  },
  {
   "cell_type": "markdown",
   "id": "880f82bf-93eb-4b19-b22c-96a4761b3665",
   "metadata": {},
   "source": [
    "## Bias\n",
    "Assumptions made by a model that simplify the process of learning to do its assigned task. Most supervised machine learning models perform better with low bias, as these assumptions can negatively affect results."
   ]
  },
  {
   "cell_type": "markdown",
   "id": "33a8eaae-17b8-4eec-8e5f-0a23796a78ae",
   "metadata": {},
   "source": [
    "## Variance\n",
    "The amount that the intended function of a machine learning model changes while it’s being trained. Despite being flexible, models with high variance are prone to overfitting and low predictive accuracy because they are reliant on their training data."
   ]
  },
  {
   "cell_type": "markdown",
   "id": "2fc202f9-56e9-4e4f-9f8a-24228eaa8c28",
   "metadata": {},
   "source": [
    "## Evaluation"
   ]
  },
  {
   "cell_type": "markdown",
   "id": "c0d8c566-6a85-405e-bdfb-5e5c51b90b90",
   "metadata": {},
   "source": [
    "### False Positive (Type I Error)\n",
    "An error where a model falsely predicts the presence of the desired outcome in an input, when in reality it is not present (Actual No, Predicted Yes)."
   ]
  },
  {
   "cell_type": "markdown",
   "id": "901cb07e-52c4-4592-b3b6-6233bf4a5382",
   "metadata": {},
   "source": [
    "### False Negatives (Type II Error)\n",
    "An error where a model falsely predicts an input as not having a desired outcome, when one is actually present. (Actual Yes, Predicted No)."
   ]
  },
  {
   "cell_type": "markdown",
   "id": "b54d3ca5-9eff-4366-a942-d6b7cbde7619",
   "metadata": {},
   "source": [
    "### True Negatives\n",
    "Actual negatives that are correctly identified as such (Actual No, Predicted No).\n",
    "### True Positives\n",
    "Actual positives that are correctly identified as such (Actual Yes, Predicted Yes)."
   ]
  },
  {
   "cell_type": "markdown",
   "id": "381faad9-6087-44f9-9bd6-a3d03c865355",
   "metadata": {},
   "source": [
    "https://github.com/pytopia/ML/blob/main/Machine%20Learning/01.%20Introduction/04%20AI%20Glossary.ipynb"
   ]
  }
 ],
 "metadata": {
  "kernelspec": {
   "display_name": "Python 3 (ipykernel)",
   "language": "python",
   "name": "python3"
  },
  "language_info": {
   "codemirror_mode": {
    "name": "ipython",
    "version": 3
   },
   "file_extension": ".py",
   "mimetype": "text/x-python",
   "name": "python",
   "nbconvert_exporter": "python",
   "pygments_lexer": "ipython3",
   "version": "3.8.13"
  }
 },
 "nbformat": 4,
 "nbformat_minor": 5
}
